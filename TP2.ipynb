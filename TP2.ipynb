{
 "cells": [
  {
   "cell_type": "markdown",
   "metadata": {},
   "source": [
    "# TP N°2\n",
    "__U.N.L.Z. - Facultad de Ingeniería__       \n",
    "__Estabilidad 1__      \n",
    "__Alumno:__ Daniel Antonio Lorenzo      "
   ]
  },
  {
   "cell_type": "markdown",
   "metadata": {},
   "source": [
    "## Sistema de fuerzas - Reticulados Planos\n",
    "La estructura de la figura está formada por una pluma rígida (DEF) y otra reticulada retráctil (nudos 1 a 26) sustentada por los apoyos A y B."
   ]
  },
  {
   "cell_type": "markdown",
   "metadata": {},
   "source": [
    "<img src=\"img/tp2-01.svg\">"
   ]
  },
  {
   "cell_type": "markdown",
   "metadata": {},
   "source": [
    "Las cargas actuales $P_1 = 2 \\times a(t)$ aplicada en el nudo D (oficia de contrapeso) y otra $P_2 = 1 \\times a(t)$ carga móvil que se desplaza según las posiciones (p1) a (p7).\n",
    "\n",
    "Su peso propio esta representado por $W_1 = 4 \\times a(t)$ (en el nudo 8) y $W_2 = 3 \\times a(t)$ (en el nudo 18)."
   ]
  },
  {
   "cell_type": "markdown",
   "metadata": {},
   "source": [
    "Siendo\n",
    "$$\\begin{array}{|c|c|} \n",
    "\\hline\n",
    "\\mbox{a} = 8 & \\mbox{Posición} = 2 \\\\\n",
    "\\hline\n",
    "\\end{array}$$"
   ]
  },
  {
   "cell_type": "markdown",
   "metadata": {},
   "source": [
    "Dado el contrapeso P1 se pide:\n",
    "1. Para la pluma rígid, calcular los esfuerzos internos gráficamente y analíticamente en DE y DF, como así también el valor de DC aplicado en el nudo 10.\n",
    "2. Para la pluma reticulada vinculada en A y B:\n",
    "  - Reacciones de vínculo gŕafica y analíticamente.\n",
    "  - Los esfuerzos en todas las barras del reticulado por el método de los Nudos y de Cremona-Bow para los estados de carga solicitados.\n",
    "  - Los esfuerzos en las barras seccionadas por dos cortes cualquiera <u>distintos</u> por los métodos de Cullmann y Ritter."
   ]
  },
  {
   "cell_type": "markdown",
   "metadata": {},
   "source": [
    "<u>Al final del ejercicio</u> se completará una TABLA resumen adjunta con los resultados obtenidos."
   ]
  },
  {
   "cell_type": "markdown",
   "metadata": {},
   "source": [
    "NOTA: Deberán indicarse con signo (+) los esfuerzos de tracción y con signo (-) los esfuerzos de compresión y su valor numérico."
   ]
  },
  {
   "cell_type": "markdown",
   "metadata": {},
   "source": [
    "### Sistema Equilibrado\n",
    "Cálculo de reacciones Pluma rígida - Pluma reticulada retráctil"
   ]
  },
  {
   "cell_type": "code",
   "execution_count": null,
   "metadata": {},
   "outputs": [],
   "source": []
  }
 ],
 "metadata": {
  "kernelspec": {
   "display_name": "Python 3",
   "language": "python",
   "name": "python3"
  },
  "language_info": {
   "codemirror_mode": {
    "name": "ipython",
    "version": 3
   },
   "file_extension": ".py",
   "mimetype": "text/x-python",
   "name": "python",
   "nbconvert_exporter": "python",
   "pygments_lexer": "ipython3",
   "version": "3.7.6"
  }
 },
 "nbformat": 4,
 "nbformat_minor": 4
}
